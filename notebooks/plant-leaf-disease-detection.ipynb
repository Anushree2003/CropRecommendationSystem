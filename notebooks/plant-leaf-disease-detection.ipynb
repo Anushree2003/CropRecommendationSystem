{
 "cells": [
  {
   "cell_type": "code",
   "execution_count": null,
   "metadata": {},
   "outputs": [],
   "source": [
    "pip install kagglehub"
   ]
  },
  {
   "cell_type": "code",
   "execution_count": null,
   "metadata": {},
   "outputs": [],
   "source": [
    "import kagglehub\n",
    "import os\n",
    "import shutil\n",
    "import random\n",
    "\n",
    "# Define the name of the Kaggle dataset\n",
    "dataset_name = \"abdallahalidev/plantvillage-dataset\"\n",
    "\n",
    "# Define the root directory where the dataset will be downloaded\n",
    "download_root = \"./plantvillage_dataset\"\n",
    "\n",
    "# Define the names for the train, test, and val directories\n",
    "train_dir = os.path.join(download_root, \"train\")\n",
    "test_dir = os.path.join(download_root, \"test\")\n",
    "val_dir = os.path.join(download_root, \"val\")\n",
    "\n",
    "# Define the train-test split ratio (8:2)\n",
    "train_ratio = 0.8\n",
    "test_ratio = 0.2\n",
    "\n",
    "# Download the latest version of the dataset\n",
    "try:\n",
    "    path = kagglehub.dataset_download(dataset_name, path=download_root, force=True)\n",
    "    print(\"Path to downloaded dataset files:\", path)\n",
    "except Exception as e:\n",
    "    print(f\"Error downloading dataset: {e}\")\n",
    "    exit()\n",
    "\n",
    "# Assuming the downloaded files are in a single directory or a structure\n",
    "# that needs to be organized. We'll look for subdirectories within the\n",
    "# downloaded structure, assuming each subdirectory represents a class.\n",
    "\n",
    "# Find subdirectories (assuming they represent plant disease classes)\n",
    "dataset_base_dir = \"\"\n",
    "for item in os.listdir(download_root):\n",
    "    item_path = os.path.join(download_root, item)\n",
    "    if os.path.isdir(item_path):\n",
    "        # Assuming the first subdirectory found is the base for the images\n",
    "        dataset_base_dir = item_path\n",
    "        break\n",
    "else:\n",
    "    print(\"No subdirectories found in the downloaded dataset to organize.\")\n",
    "    exit()\n",
    "\n",
    "# Create train, test, and val directories if they don't exist\n",
    "os.makedirs(train_dir, exist_ok=True)\n",
    "os.makedirs(test_dir, exist_ok=True)\n",
    "os.makedirs(val_dir, exist_ok=True)\n",
    "\n",
    "# Get a list of all subdirectories (classes) within the dataset base directory\n",
    "class_names = [item for item in os.listdir(dataset_base_dir) if os.path.isdir(os.path.join(dataset_base_dir, item))]\n",
    "\n",
    "print(\"Found the following classes:\", class_names)\n",
    "\n",
    "# Iterate through each class and split the images into train, test, and val\n",
    "for class_name in class_names:\n",
    "    class_path = os.path.join(dataset_base_dir, class_name)\n",
    "    images = [f for f in os.listdir(class_path) if os.path.isfile(os.path.join(class_path, f))]\n",
    "    random.shuffle(images)\n",
    "\n",
    "    num_images = len(images)\n",
    "    train_split = int(train_ratio * num_images)\n",
    "    test_split = int(test_ratio * num_images)\n",
    "\n",
    "    train_images = images[:train_split]\n",
    "    test_images = images[train_split:train_split + test_split]\n",
    "    val_images = images[train_split + test_split:]\n",
    "\n",
    "    # Create class-specific subdirectories in train, test, and val\n",
    "    os.makedirs(os.path.join(train_dir, class_name), exist_ok=True)\n",
    "    os.makedirs(os.path.join(test_dir, class_name), exist_ok=True)\n",
    "    os.makedirs(os.path.join(val_dir, class_name), exist_ok=True)\n",
    "\n",
    "    # Move images to their respective directories\n",
    "    for image in train_images:\n",
    "        src_path = os.path.join(class_path, image)\n",
    "        dst_path = os.path.join(train_dir, class_name, image)\n",
    "        shutil.copy2(src_path, dst_path)  # copy2 preserves metadata\n",
    "    print(f\"Moved {len(train_images)} images to train/{class_name}\")\n",
    "\n",
    "    for image in test_images:\n",
    "        src_path = os.path.join(class_path, image)\n",
    "        dst_path = os.path.join(test_dir, class_name, image)\n",
    "        shutil.copy2(src_path, dst_path)\n",
    "    print(f\"Moved {len(test_images)} images to test/{class_name}\")\n",
    "\n",
    "    for image in val_images:\n",
    "        src_path = os.path.join(class_path, image)\n",
    "        dst_path = os.path.join(val_dir, class_name, image)\n",
    "        shutil.copy2(src_path, dst_path)\n",
    "    print(f\"Moved {len(val_images)} images to val/{class_name}\")\n",
    "\n",
    "print(\"Dataset organization into train, test, and val folders complete.\")\n",
    "print(\"Train directory:\", train_dir)\n",
    "print(\"Test directory:\", test_dir)\n",
    "print(\"Validation directory:\", val_dir)"
   ]
  },
  {
   "cell_type": "code",
   "execution_count": 1,
   "metadata": {
    "execution": {
     "iopub.execute_input": "2021-02-09T20:38:16.695826Z",
     "iopub.status.busy": "2021-02-09T20:38:16.695247Z",
     "iopub.status.idle": "2021-02-09T20:38:24.244266Z",
     "shell.execute_reply": "2021-02-09T20:38:24.243689Z"
    },
    "papermill": {
     "duration": 7.562891,
     "end_time": "2021-02-09T20:38:24.244463",
     "exception": false,
     "start_time": "2021-02-09T20:38:16.681572",
     "status": "completed"
    },
    "tags": []
   },
   "outputs": [
    {
     "name": "stdout",
     "output_type": "stream",
     "text": [
      "Collecting split-folders\r\n",
      "  Downloading split_folders-0.4.3-py3-none-any.whl (7.4 kB)\r\n",
      "Installing collected packages: split-folders\r\n",
      "Successfully installed split-folders-0.4.3\r\n",
      "\u001b[33mWARNING: You are using pip version 21.0; however, version 21.0.1 is available.\r\n",
      "You should consider upgrading via the '/opt/conda/bin/python -m pip install --upgrade pip' command.\u001b[0m\r\n",
      "Note: you may need to restart the kernel to use updated packages.\n"
     ]
    }
   ],
   "source": [
    "pip install split-folders\n"
   ]
  },
  {
   "cell_type": "code",
   "execution_count": 2,
   "metadata": {
    "execution": {
     "iopub.execute_input": "2021-02-09T20:38:24.270634Z",
     "iopub.status.busy": "2021-02-09T20:38:24.269863Z",
     "iopub.status.idle": "2021-02-09T20:38:29.753435Z",
     "shell.execute_reply": "2021-02-09T20:38:29.754298Z"
    },
    "papermill": {
     "duration": 5.499782,
     "end_time": "2021-02-09T20:38:29.754578",
     "exception": false,
     "start_time": "2021-02-09T20:38:24.254796",
     "status": "completed"
    },
    "tags": []
   },
   "outputs": [],
   "source": [
    "import pandas as pd\n",
    "import numpy as np\n",
    "import os\n",
    "import keras\n",
    "import matplotlib.pyplot as plt\n",
    "from keras.layers import Dense,GlobalAveragePooling2D\n",
    "from keras.applications import MobileNet\n",
    "from keras.preprocessing import image\n",
    "from keras.applications.mobilenet import preprocess_input\n",
    "from keras.preprocessing.image import ImageDataGenerator\n",
    "from keras.models import Model\n",
    "from keras.optimizers import Adam\n",
    "import matplotlib.pyplot as plt\n",
    "from sklearn.datasets import make_blobs\n",
    "from sklearn.model_selection import train_test_split"
   ]
  },
  {
   "cell_type": "code",
   "execution_count": 3,
   "metadata": {
    "execution": {
     "iopub.execute_input": "2021-02-09T20:38:29.806240Z",
     "iopub.status.busy": "2021-02-09T20:38:29.805448Z",
     "iopub.status.idle": "2021-02-09T20:38:33.710510Z",
     "shell.execute_reply": "2021-02-09T20:38:33.709969Z"
    },
    "papermill": {
     "duration": 3.936689,
     "end_time": "2021-02-09T20:38:33.710660",
     "exception": false,
     "start_time": "2021-02-09T20:38:29.773971",
     "status": "completed"
    },
    "tags": []
   },
   "outputs": [
    {
     "name": "stdout",
     "output_type": "stream",
     "text": [
      "Downloading data from https://storage.googleapis.com/tensorflow/keras-applications/mobilenet/mobilenet_1_0_224_tf_no_top.h5\n",
      "17227776/17225924 [==============================] - 0s 0us/step\n"
     ]
    }
   ],
   "source": [
    "base_model=MobileNet(weights='imagenet',include_top=False) #imports the mobilenet model and discards the last 1000 neuron layer.\n",
    "\n",
    "x=base_model.output\n",
    "x=GlobalAveragePooling2D()(x)\n",
    "x=Dense(1024,activation='relu')(x) #we add dense layers so that the model can learn more complex functions and classify for better results.\n",
    "x=Dense(1024,activation='relu')(x) #dense layer 2\n",
    "x=Dense(512,activation='relu')(x) #dense layer 3\n",
    "preds=Dense(38,activation='softmax')(x) #final layer with softmax activation"
   ]
  },
  {
   "cell_type": "code",
   "execution_count": 4,
   "metadata": {
    "execution": {
     "iopub.execute_input": "2021-02-09T20:38:33.743153Z",
     "iopub.status.busy": "2021-02-09T20:38:33.742323Z",
     "iopub.status.idle": "2021-02-09T20:38:33.752112Z",
     "shell.execute_reply": "2021-02-09T20:38:33.751661Z"
    },
    "papermill": {
     "duration": 0.028584,
     "end_time": "2021-02-09T20:38:33.752259",
     "exception": false,
     "start_time": "2021-02-09T20:38:33.723675",
     "status": "completed"
    },
    "tags": []
   },
   "outputs": [],
   "source": [
    "model=Model(inputs=base_model.input,outputs=preds)\n",
    "#specify the inputs\n",
    "#specify the outputs\n",
    "#now a model has been created based on our architecture"
   ]
  },
  {
   "cell_type": "code",
   "execution_count": 5,
   "metadata": {
    "execution": {
     "iopub.execute_input": "2021-02-09T20:38:33.787666Z",
     "iopub.status.busy": "2021-02-09T20:38:33.785709Z",
     "iopub.status.idle": "2021-02-09T20:38:33.788306Z",
     "shell.execute_reply": "2021-02-09T20:38:33.788734Z"
    },
    "papermill": {
     "duration": 0.023468,
     "end_time": "2021-02-09T20:38:33.788871",
     "exception": false,
     "start_time": "2021-02-09T20:38:33.765403",
     "status": "completed"
    },
    "tags": []
   },
   "outputs": [],
   "source": [
    "for layer in model.layers[:20]:\n",
    "    layer.trainable=False\n",
    "for layer in model.layers[20:]:\n",
    "    layer.trainable=True"
   ]
  },
  {
   "cell_type": "code",
   "execution_count": 6,
   "metadata": {
    "execution": {
     "iopub.execute_input": "2021-02-09T20:38:33.818204Z",
     "iopub.status.busy": "2021-02-09T20:38:33.817428Z",
     "iopub.status.idle": "2021-02-09T20:45:19.239423Z",
     "shell.execute_reply": "2021-02-09T20:45:19.233845Z"
    },
    "papermill": {
     "duration": 405.438179,
     "end_time": "2021-02-09T20:45:19.239618",
     "exception": false,
     "start_time": "2021-02-09T20:38:33.801439",
     "status": "completed"
    },
    "tags": []
   },
   "outputs": [
    {
     "name": "stderr",
     "output_type": "stream",
     "text": [
      "Copying files: 54306 files [06:45, 134.05 files/s]\n"
     ]
    }
   ],
   "source": [
    "import splitfolders  # or import split_folders\n",
    "\n",
    "# Split with a ratio.\n",
    "# To only split into training and validation set, set a tuple to `ratio`, i.e, `(.8, .2)`.\n",
    "splitfolders.ratio('../input/plantvillage-dataset/segmented', output=\"output\", seed=1337, ratio=(.8, .2), group_prefix=None) # default values"
   ]
  },
  {
   "cell_type": "code",
   "execution_count": 7,
   "metadata": {
    "execution": {
     "iopub.execute_input": "2021-02-09T20:45:21.250144Z",
     "iopub.status.busy": "2021-02-09T20:45:21.248889Z",
     "iopub.status.idle": "2021-02-09T20:45:23.511854Z",
     "shell.execute_reply": "2021-02-09T20:45:23.512426Z"
    },
    "papermill": {
     "duration": 3.13067,
     "end_time": "2021-02-09T20:45:23.512627",
     "exception": false,
     "start_time": "2021-02-09T20:45:20.381957",
     "status": "completed"
    },
    "tags": []
   },
   "outputs": [
    {
     "name": "stdout",
     "output_type": "stream",
     "text": [
      "Found 43430 images belonging to 38 classes.\n"
     ]
    }
   ],
   "source": [
    "\n",
    "train_datagen=ImageDataGenerator(preprocessing_function=preprocess_input) #included in our dependencies\n",
    "\n",
    "train_generator=train_datagen.flow_from_directory('./output/train', # this is where you specify the path to the main data folder\n",
    "                                                 target_size=(224,224),\n",
    "                                                 color_mode='rgb',\n",
    "                                                 batch_size=32,\n",
    "                                                 class_mode='categorical',\n",
    "                                                 shuffle=True)"
   ]
  },
  {
   "cell_type": "code",
   "execution_count": 8,
   "metadata": {
    "execution": {
     "iopub.execute_input": "2021-02-09T20:45:25.201705Z",
     "iopub.status.busy": "2021-02-09T20:45:25.201044Z",
     "iopub.status.idle": "2021-02-09T20:45:25.855482Z",
     "shell.execute_reply": "2021-02-09T20:45:25.854762Z"
    },
    "papermill": {
     "duration": 1.50249,
     "end_time": "2021-02-09T20:45:25.855614",
     "exception": false,
     "start_time": "2021-02-09T20:45:24.353124",
     "status": "completed"
    },
    "tags": []
   },
   "outputs": [
    {
     "name": "stdout",
     "output_type": "stream",
     "text": [
      "Found 10876 images belonging to 38 classes.\n"
     ]
    }
   ],
   "source": [
    "val_datagen=ImageDataGenerator(preprocessing_function=preprocess_input) #included in our dependencies\n",
    "\n",
    "val_generator=train_datagen.flow_from_directory('./output/val', # this is where you specify the path to the main data folder\n",
    "                                                 target_size=(224,224),\n",
    "                                                 color_mode='rgb',\n",
    "                                                 batch_size=32,\n",
    "                                                 class_mode='categorical',\n",
    "                                                 shuffle=True)"
   ]
  },
  {
   "cell_type": "code",
   "execution_count": 9,
   "metadata": {
    "execution": {
     "iopub.execute_input": "2021-02-09T20:45:27.600215Z",
     "iopub.status.busy": "2021-02-09T20:45:27.599395Z",
     "iopub.status.idle": "2021-02-09T20:56:40.755917Z",
     "shell.execute_reply": "2021-02-09T20:56:40.756611Z"
    },
    "papermill": {
     "duration": 674.057461,
     "end_time": "2021-02-09T20:56:40.756849",
     "exception": false,
     "start_time": "2021-02-09T20:45:26.699388",
     "status": "completed"
    },
    "tags": []
   },
   "outputs": [
    {
     "name": "stderr",
     "output_type": "stream",
     "text": [
      "/opt/conda/lib/python3.7/site-packages/tensorflow/python/keras/engine/training.py:1844: UserWarning: `Model.fit_generator` is deprecated and will be removed in a future version. Please use `Model.fit`, which supports generators.\n",
      "  warnings.warn('`Model.fit_generator` is deprecated and '\n"
     ]
    },
    {
     "name": "stdout",
     "output_type": "stream",
     "text": [
      "Epoch 1/5\n",
      "1357/1357 [==============================] - 139s 99ms/step - loss: 0.7514 - accuracy: 0.7884 - val_loss: 0.5736 - val_accuracy: 0.8577\n",
      "Epoch 2/5\n",
      "1357/1357 [==============================] - 133s 98ms/step - loss: 0.2371 - accuracy: 0.9343 - val_loss: 0.1807 - val_accuracy: 0.9477\n",
      "Epoch 3/5\n",
      "1357/1357 [==============================] - 133s 98ms/step - loss: 0.1793 - accuracy: 0.9496 - val_loss: 0.2329 - val_accuracy: 0.9320\n",
      "Epoch 4/5\n",
      "1357/1357 [==============================] - 132s 97ms/step - loss: 0.1464 - accuracy: 0.9599 - val_loss: 0.4198 - val_accuracy: 0.8977\n",
      "Epoch 5/5\n",
      "1357/1357 [==============================] - 134s 99ms/step - loss: 0.1321 - accuracy: 0.9645 - val_loss: 0.1223 - val_accuracy: 0.9674\n"
     ]
    }
   ],
   "source": [
    "model.compile(optimizer='Adam',loss='categorical_crossentropy',metrics=['accuracy'])\n",
    "# Adam optimizer\n",
    "# loss function will be categorical cross entropy\n",
    "# evaluation metric will be accuracy\n",
    "\n",
    "step_size_train=train_generator.n//train_generator.batch_size\n",
    "accident_model=model.fit_generator(generator=train_generator,\n",
    "                    validation_data =val_generator,\n",
    "                   steps_per_epoch=step_size_train,\n",
    "                   \n",
    "                   epochs=5)"
   ]
  },
  {
   "cell_type": "code",
   "execution_count": 10,
   "metadata": {
    "execution": {
     "iopub.execute_input": "2021-02-09T20:56:46.215550Z",
     "iopub.status.busy": "2021-02-09T20:56:46.214563Z",
     "iopub.status.idle": "2021-02-09T20:56:46.382524Z",
     "shell.execute_reply": "2021-02-09T20:56:46.382973Z"
    },
    "papermill": {
     "duration": 2.764785,
     "end_time": "2021-02-09T20:56:46.383129",
     "exception": false,
     "start_time": "2021-02-09T20:56:43.618344",
     "status": "completed"
    },
    "tags": []
   },
   "outputs": [
    {
     "data": {
      "text/plain": [
       "<matplotlib.legend.Legend at 0x7f7cfb1e7450>"
      ]
     },
     "execution_count": 10,
     "metadata": {},
     "output_type": "execute_result"
    },
    {
     "data": {
      "image/png": "[encoded data removed]",
      "text/plain": [
       "<Figure size 432x288 with 1 Axes>"
      ]
     },
     "metadata": {
      "needs_background": "light"
     },
     "output_type": "display_data"
    }
   ],
   "source": [
    "plt.plot(accident_model.history['loss'], label = 'training loss')\n",
    "plt.plot(accident_model.history['accuracy'], label = 'training accuracy')\n",
    "plt.grid(True)\n",
    "plt.legend()"
   ]
  },
  {
   "cell_type": "code",
   "execution_count": 11,
   "metadata": {
    "execution": {
     "iopub.execute_input": "2021-02-09T20:56:51.691043Z",
     "iopub.status.busy": "2021-02-09T20:56:51.689630Z",
     "iopub.status.idle": "2021-02-09T20:56:51.863898Z",
     "shell.execute_reply": "2021-02-09T20:56:51.863017Z"
    },
    "papermill": {
     "duration": 2.78088,
     "end_time": "2021-02-09T20:56:51.864045",
     "exception": false,
     "start_time": "2021-02-09T20:56:49.083165",
     "status": "completed"
    },
    "tags": []
   },
   "outputs": [
    {
     "data": {
      "text/plain": [
       "<matplotlib.legend.Legend at 0x7f7cfa075ad0>"
      ]
     },
     "execution_count": 11,
     "metadata": {},
     "output_type": "execute_result"
    },
    {
     "data": {
      "image/png": "[encoded data removed]",
      "text/plain": [
       "<Figure size 432x288 with 1 Axes>"
      ]
     },
     "metadata": {
      "needs_background": "light"
     },
     "output_type": "display_data"
    }
   ],
   "source": [
    "plt.plot(accident_model.history['val_loss'], label = 'validation loss')\n",
    "plt.plot(accident_model.history['val_accuracy'], label = 'validation accuracy')\n",
    "plt.grid(True)\n",
    "plt.legend()"
   ]
  },
  {
   "cell_type": "code",
   "execution_count": 12,
   "metadata": {
    "execution": {
     "iopub.execute_input": "2021-02-09T20:56:57.350539Z",
     "iopub.status.busy": "2021-02-09T20:56:57.349721Z",
     "iopub.status.idle": "2021-02-09T20:56:57.613770Z",
     "shell.execute_reply": "2021-02-09T20:56:57.612913Z"
    },
    "papermill": {
     "duration": 2.847318,
     "end_time": "2021-02-09T20:56:57.613923",
     "exception": false,
     "start_time": "2021-02-09T20:56:54.766605",
     "status": "completed"
    },
    "tags": []
   },
   "outputs": [],
   "source": [
    "from keras.models import load_model \n",
    "model.save(\"network.h5\") "
   ]
  },
  {
   "cell_type": "code",
   "execution_count": 13,
   "metadata": {
    "execution": {
     "iopub.execute_input": "2021-02-09T20:57:02.829520Z",
     "iopub.status.busy": "2021-02-09T20:57:02.827930Z",
     "iopub.status.idle": "2021-02-09T20:57:02.830072Z",
     "shell.execute_reply": "2021-02-09T20:57:02.830474Z"
    },
    "papermill": {
     "duration": 2.56637,
     "end_time": "2021-02-09T20:57:02.830620",
     "exception": false,
     "start_time": "2021-02-09T20:57:00.264250",
     "status": "completed"
    },
    "tags": []
   },
   "outputs": [],
   "source": [
    "from keras.models import load_model \n"
   ]
  },
  {
   "cell_type": "code",
   "execution_count": 14,
   "metadata": {
    "execution": {
     "iopub.execute_input": "2021-02-09T20:57:08.746324Z",
     "iopub.status.busy": "2021-02-09T20:57:08.725904Z",
     "iopub.status.idle": "2021-02-09T20:57:09.565019Z",
     "shell.execute_reply": "2021-02-09T20:57:09.564301Z"
    },
    "papermill": {
     "duration": 3.88684,
     "end_time": "2021-02-09T20:57:09.565213",
     "exception": false,
     "start_time": "2021-02-09T20:57:05.678373",
     "status": "completed"
    },
    "tags": []
   },
   "outputs": [
    {
     "name": "stdout",
     "output_type": "stream",
     "text": [
      "Model: \"model\"\n",
      "_________________________________________________________________\n",
      "Layer (type)                 Output Shape              Param #   \n",
      "=================================================================\n",
      "input_1 (InputLayer)         [(None, None, None, 3)]   0         \n",
      "_________________________________________________________________\n",
      "conv1 (Conv2D)               (None, None, None, 32)    864       \n",
      "_________________________________________________________________\n",
      "conv1_bn (BatchNormalization (None, None, None, 32)    128       \n",
      "_________________________________________________________________\n",
      "conv1_relu (ReLU)            (None, None, None, 32)    0         \n",
      "_________________________________________________________________\n",
      "conv_dw_1 (DepthwiseConv2D)  (None, None, None, 32)    288       \n",
      "_________________________________________________________________\n",
      "conv_dw_1_bn (BatchNormaliza (None, None, None, 32)    128       \n",
      "_________________________________________________________________\n",
      "conv_dw_1_relu (ReLU)        (None, None, None, 32)    0         \n",
      "_________________________________________________________________\n",
      "conv_pw_1 (Conv2D)           (None, None, None, 64)    2048      \n",
      "_________________________________________________________________\n",
      "conv_pw_1_bn (BatchNormaliza (None, None, None, 64)    256       \n",
      "_________________________________________________________________\n",
      "conv_pw_1_relu (ReLU)        (None, None, None, 64)    0         \n",
      "_________________________________________________________________\n",
      "conv_pad_2 (ZeroPadding2D)   (None, None, None, 64)    0         \n",
      "_________________________________________________________________\n",
      "conv_dw_2 (DepthwiseConv2D)  (None, None, None, 64)    576       \n",
      "_________________________________________________________________\n",
      "conv_dw_2_bn (BatchNormaliza (None, None, None, 64)    256       \n",
      "_________________________________________________________________\n",
      "conv_dw_2_relu (ReLU)        (None, None, None, 64)    0         \n",
      "_________________________________________________________________\n",
      "conv_pw_2 (Conv2D)           (None, None, None, 128)   8192      \n",
      "_________________________________________________________________\n",
      "conv_pw_2_bn (BatchNormaliza (None, None, None, 128)   512       \n",
      "_________________________________________________________________\n",
      "conv_pw_2_relu (ReLU)        (None, None, None, 128)   0         \n",
      "_________________________________________________________________\n",
      "conv_dw_3 (DepthwiseConv2D)  (None, None, None, 128)   1152      \n",
      "_________________________________________________________________\n",
      "conv_dw_3_bn (BatchNormaliza (None, None, None, 128)   512       \n",
      "_________________________________________________________________\n",
      "conv_dw_3_relu (ReLU)        (None, None, None, 128)   0         \n",
      "_________________________________________________________________\n",
      "conv_pw_3 (Conv2D)           (None, None, None, 128)   16384     \n",
      "_________________________________________________________________\n",
      "conv_pw_3_bn (BatchNormaliza (None, None, None, 128)   512       \n",
      "_________________________________________________________________\n",
      "conv_pw_3_relu (ReLU)        (None, None, None, 128)   0         \n",
      "_________________________________________________________________\n",
      "conv_pad_4 (ZeroPadding2D)   (None, None, None, 128)   0         \n",
      "_________________________________________________________________\n",
      "conv_dw_4 (DepthwiseConv2D)  (None, None, None, 128)   1152      \n",
      "_________________________________________________________________\n",
      "conv_dw_4_bn (BatchNormaliza (None, None, None, 128)   512       \n",
      "_________________________________________________________________\n",
      "conv_dw_4_relu (ReLU)        (None, None, None, 128)   0         \n",
      "_________________________________________________________________\n",
      "conv_pw_4 (Conv2D)           (None, None, None, 256)   32768     \n",
      "_________________________________________________________________\n",
      "conv_pw_4_bn (BatchNormaliza (None, None, None, 256)   1024      \n",
      "_________________________________________________________________\n",
      "conv_pw_4_relu (ReLU)        (None, None, None, 256)   0         \n",
      "_________________________________________________________________\n",
      "conv_dw_5 (DepthwiseConv2D)  (None, None, None, 256)   2304      \n",
      "_________________________________________________________________\n",
      "conv_dw_5_bn (BatchNormaliza (None, None, None, 256)   1024      \n",
      "_________________________________________________________________\n",
      "conv_dw_5_relu (ReLU)        (None, None, None, 256)   0         \n",
      "_________________________________________________________________\n",
      "conv_pw_5 (Conv2D)           (None, None, None, 256)   65536     \n",
      "_________________________________________________________________\n",
      "conv_pw_5_bn (BatchNormaliza (None, None, None, 256)   1024      \n",
      "_________________________________________________________________\n",
      "conv_pw_5_relu (ReLU)        (None, None, None, 256)   0         \n",
      "_________________________________________________________________\n",
      "conv_pad_6 (ZeroPadding2D)   (None, None, None, 256)   0         \n",
      "_________________________________________________________________\n",
      "conv_dw_6 (DepthwiseConv2D)  (None, None, None, 256)   2304      \n",
      "_________________________________________________________________\n",
      "conv_dw_6_bn (BatchNormaliza (None, None, None, 256)   1024      \n",
      "_________________________________________________________________\n",
      "conv_dw_6_relu (ReLU)        (None, None, None, 256)   0         \n",
      "_________________________________________________________________\n",
      "conv_pw_6 (Conv2D)           (None, None, None, 512)   131072    \n",
      "_________________________________________________________________\n",
      "conv_pw_6_bn (BatchNormaliza (None, None, None, 512)   2048      \n",
      "_________________________________________________________________\n",
      "conv_pw_6_relu (ReLU)        (None, None, None, 512)   0         \n",
      "_________________________________________________________________\n",
      "conv_dw_7 (DepthwiseConv2D)  (None, None, None, 512)   4608      \n",
      "_________________________________________________________________\n",
      "conv_dw_7_bn (BatchNormaliza (None, None, None, 512)   2048      \n",
      "_________________________________________________________________\n",
      "conv_dw_7_relu (ReLU)        (None, None, None, 512)   0         \n",
      "_________________________________________________________________\n",
      "conv_pw_7 (Conv2D)           (None, None, None, 512)   262144    \n",
      "_________________________________________________________________\n",
      "conv_pw_7_bn (BatchNormaliza (None, None, None, 512)   2048      \n",
      "_________________________________________________________________\n",
      "conv_pw_7_relu (ReLU)        (None, None, None, 512)   0         \n",
      "_________________________________________________________________\n",
      "conv_dw_8 (DepthwiseConv2D)  (None, None, None, 512)   4608      \n",
      "_________________________________________________________________\n",
      "conv_dw_8_bn (BatchNormaliza (None, None, None, 512)   2048      \n",
      "_________________________________________________________________\n",
      "conv_dw_8_relu (ReLU)        (None, None, None, 512)   0         \n",
      "_________________________________________________________________\n",
      "conv_pw_8 (Conv2D)           (None, None, None, 512)   262144    \n",
      "_________________________________________________________________\n",
      "conv_pw_8_bn (BatchNormaliza (None, None, None, 512)   2048      \n",
      "_________________________________________________________________\n",
      "conv_pw_8_relu (ReLU)        (None, None, None, 512)   0         \n",
      "_________________________________________________________________\n",
      "conv_dw_9 (DepthwiseConv2D)  (None, None, None, 512)   4608      \n",
      "_________________________________________________________________\n",
      "conv_dw_9_bn (BatchNormaliza (None, None, None, 512)   2048      \n",
      "_________________________________________________________________\n",
      "conv_dw_9_relu (ReLU)        (None, None, None, 512)   0         \n",
      "_________________________________________________________________\n",
      "conv_pw_9 (Conv2D)           (None, None, None, 512)   262144    \n",
      "_________________________________________________________________\n",
      "conv_pw_9_bn (BatchNormaliza (None, None, None, 512)   2048      \n",
      "_________________________________________________________________\n",
      "conv_pw_9_relu (ReLU)        (None, None, None, 512)   0         \n",
      "_________________________________________________________________\n",
      "conv_dw_10 (DepthwiseConv2D) (None, None, None, 512)   4608      \n",
      "_________________________________________________________________\n",
      "conv_dw_10_bn (BatchNormaliz (None, None, None, 512)   2048      \n",
      "_________________________________________________________________\n",
      "conv_dw_10_relu (ReLU)       (None, None, None, 512)   0         \n",
      "_________________________________________________________________\n",
      "conv_pw_10 (Conv2D)          (None, None, None, 512)   262144    \n",
      "_________________________________________________________________\n",
      "conv_pw_10_bn (BatchNormaliz (None, None, None, 512)   2048      \n",
      "_________________________________________________________________\n",
      "conv_pw_10_relu (ReLU)       (None, None, None, 512)   0         \n",
      "_________________________________________________________________\n",
      "conv_dw_11 (DepthwiseConv2D) (None, None, None, 512)   4608      \n",
      "_________________________________________________________________\n",
      "conv_dw_11_bn (BatchNormaliz (None, None, None, 512)   2048      \n",
      "_________________________________________________________________\n",
      "conv_dw_11_relu (ReLU)       (None, None, None, 512)   0         \n",
      "_________________________________________________________________\n",
      "conv_pw_11 (Conv2D)          (None, None, None, 512)   262144    \n",
      "_________________________________________________________________\n",
      "conv_pw_11_bn (BatchNormaliz (None, None, None, 512)   2048      \n",
      "_________________________________________________________________\n",
      "conv_pw_11_relu (ReLU)       (None, None, None, 512)   0         \n",
      "_________________________________________________________________\n",
      "conv_pad_12 (ZeroPadding2D)  (None, None, None, 512)   0         \n",
      "_________________________________________________________________\n",
      "conv_dw_12 (DepthwiseConv2D) (None, None, None, 512)   4608      \n",
      "_________________________________________________________________\n",
      "conv_dw_12_bn (BatchNormaliz (None, None, None, 512)   2048      \n",
      "_________________________________________________________________\n",
      "conv_dw_12_relu (ReLU)       (None, None, None, 512)   0         \n",
      "_________________________________________________________________\n",
      "conv_pw_12 (Conv2D)          (None, None, None, 1024)  524288    \n",
      "_________________________________________________________________\n",
      "conv_pw_12_bn (BatchNormaliz (None, None, None, 1024)  4096      \n",
      "_________________________________________________________________\n",
      "conv_pw_12_relu (ReLU)       (None, None, None, 1024)  0         \n",
      "_________________________________________________________________\n",
      "conv_dw_13 (DepthwiseConv2D) (None, None, None, 1024)  9216      \n",
      "_________________________________________________________________\n",
      "conv_dw_13_bn (BatchNormaliz (None, None, None, 1024)  4096      \n",
      "_________________________________________________________________\n",
      "conv_dw_13_relu (ReLU)       (None, None, None, 1024)  0         \n",
      "_________________________________________________________________\n",
      "conv_pw_13 (Conv2D)          (None, None, None, 1024)  1048576   \n",
      "_________________________________________________________________\n",
      "conv_pw_13_bn (BatchNormaliz (None, None, None, 1024)  4096      \n",
      "_________________________________________________________________\n",
      "conv_pw_13_relu (ReLU)       (None, None, None, 1024)  0         \n",
      "_________________________________________________________________\n",
      "global_average_pooling2d (Gl (None, 1024)              0         \n",
      "_________________________________________________________________\n",
      "dense (Dense)                (None, 1024)              1049600   \n",
      "_________________________________________________________________\n",
      "dense_1 (Dense)              (None, 1024)              1049600   \n",
      "_________________________________________________________________\n",
      "dense_2 (Dense)              (None, 512)               524800    \n",
      "_________________________________________________________________\n",
      "dense_3 (Dense)              (None, 38)                19494     \n",
      "=================================================================\n",
      "Total params: 5,872,358\n",
      "Trainable params: 5,836,454\n",
      "Non-trainable params: 35,904\n",
      "_________________________________________________________________\n"
     ]
    }
   ],
   "source": [
    "model = load_model('network.h5')\n",
    "# summarize model.\n",
    "model.summary()"
   ]
  },
  {
   "cell_type": "code",
   "execution_count": null,
   "metadata": {
    "papermill": {
     "duration": 2.879231,
     "end_time": "2021-02-09T20:57:15.043052",
     "exception": false,
     "start_time": "2021-02-09T20:57:12.163821",
     "status": "completed"
    },
    "tags": []
   },
   "outputs": [],
   "source": []
  }
 ],
 "metadata": {
  "kernelspec": {
   "display_name": "Python 3",
   "language": "python",
   "name": "python3"
  },
  "language_info": {
   "codemirror_mode": {
    "name": "ipython",
    "version": 3
   },
   "file_extension": ".py",
   "mimetype": "text/x-python",
   "name": "python",
   "nbconvert_exporter": "python",
   "pygments_lexer": "ipython3",
   "version": "3.7.9"
  },
  "papermill": {
   "default_parameters": {},
   "duration": 1148.888872,
   "end_time": "2021-02-09T20:57:20.614725",
   "environment_variables": {},
   "exception": null,
   "input_path": "__notebook__.ipynb",
   "output_path": "__notebook__.ipynb",
   "parameters": {},
   "start_time": "2021-02-09T20:38:11.725853",
   "version": "2.2.2"
  }
 },
 "nbformat": 4,
 "nbformat_minor": 4
}
